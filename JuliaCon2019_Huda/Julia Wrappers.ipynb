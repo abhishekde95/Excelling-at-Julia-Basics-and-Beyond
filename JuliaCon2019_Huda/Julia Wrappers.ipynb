{
 "cells": [
  {
   "cell_type": "markdown",
   "metadata": {},
   "source": [
    "## We need the package `PyCall` for importing Python packages and code"
   ]
  },
  {
   "cell_type": "code",
   "execution_count": null,
   "metadata": {},
   "outputs": [],
   "source": [
    "# wrapping functions:\n",
    "using PyCall #if calling this for the first time, add the package first by typing Pkg.add(\"PyCall\")"
   ]
  },
  {
   "cell_type": "code",
   "execution_count": null,
   "metadata": {},
   "outputs": [],
   "source": [
    "pushfirst!(PyVector(pyimport(\"sys\").\"path\"), \"\") #to tell pyimport search in the local directory"
   ]
  },
  {
   "cell_type": "markdown",
   "metadata": {},
   "source": [
    "### 1. take your existing python function and wrap it into a julia function\n",
    "_filename: python_sum.py_\n",
    "\n",
    "```\n",
    "def py_sum(A):\n",
    "    s = 0.0\n",
    "    for a in A:\n",
    "        s += a\n",
    "    return s\n",
    "```"
   ]
  },
  {
   "cell_type": "code",
   "execution_count": null,
   "metadata": {},
   "outputs": [],
   "source": [
    "python_sum = pyimport(\"python_sum\") # wrote a function out side julia"
   ]
  },
  {
   "cell_type": "code",
   "execution_count": null,
   "metadata": {},
   "outputs": [],
   "source": [
    "m = [1,2,3]\n",
    "python_sum.py_sum(m)"
   ]
  },
  {
   "cell_type": "markdown",
   "metadata": {},
   "source": [
    "### 2. You can also write quick and easy python code from within julia"
   ]
  },
  {
   "cell_type": "code",
   "execution_count": null,
   "metadata": {},
   "outputs": [],
   "source": [
    "py\"\"\"\n",
    "def py_sum2(A):\n",
    "    s = 0.0\n",
    "    for a in A:\n",
    "        s += a\n",
    "    return s\n",
    "\"\"\"\n",
    "sum_py = py\"py_sum2\""
   ]
  },
  {
   "cell_type": "code",
   "execution_count": null,
   "metadata": {},
   "outputs": [],
   "source": [
    "sum_py([1,2,3])"
   ]
  },
  {
   "cell_type": "markdown",
   "metadata": {},
   "source": [
    "## 3. You can also import your favorite python package"
   ]
  },
  {
   "cell_type": "code",
   "execution_count": null,
   "metadata": {},
   "outputs": [],
   "source": [
    "pyimport(\"cvxpy\")"
   ]
  },
  {
   "cell_type": "markdown",
   "metadata": {},
   "source": [
    "```\n",
    "# if the above doesn't work, and you get something like what I get when I add networkx, try:\n",
    "using Conda\n",
    "Conda.add(\"cvxpy\")\n",
    "```"
   ]
  },
  {
   "cell_type": "code",
   "execution_count": null,
   "metadata": {},
   "outputs": [],
   "source": [
    "pyimport(\"networkx\")"
   ]
  },
  {
   "cell_type": "code",
   "execution_count": null,
   "metadata": {},
   "outputs": [],
   "source": [
    "my_cvxpy = pyimport(\"cvxpy\")"
   ]
  },
  {
   "cell_type": "code",
   "execution_count": null,
   "metadata": {},
   "outputs": [],
   "source": [
    "x1 = my_cvxpy.Variable(1, name=\"x1\")"
   ]
  },
  {
   "cell_type": "code",
   "execution_count": null,
   "metadata": {},
   "outputs": [],
   "source": [
    "obj = my_cvxpy.square(x1)"
   ]
  },
  {
   "cell_type": "code",
   "execution_count": null,
   "metadata": {},
   "outputs": [],
   "source": [
    "#old syntax: @pyimport cvxpy.constraints as cvxpyconstraints\n",
    "x1 = my_cvxpy.Variable(1, name=\"x1\")"
   ]
  },
  {
   "cell_type": "code",
   "execution_count": null,
   "metadata": {},
   "outputs": [],
   "source": [
    "cvxpyconstraints = pyimport(\"cvxpy.constraints\")"
   ]
  },
  {
   "cell_type": "markdown",
   "metadata": {},
   "source": [
    "Least squares example from the CVXPY page\n",
    "https://www.cvxpy.org/examples/basic/least_squares.html\n",
    "\n",
    "```\n",
    "# Import packages.\n",
    "import cvxpy as cp\n",
    "import numpy as np\n",
    "\n",
    "# Generate data.\n",
    "m = 20\n",
    "n = 15\n",
    "np.random.seed(1)\n",
    "A = np.random.randn(m, n)\n",
    "b = np.random.randn(m)\n",
    "\n",
    "# Define and solve the CVXPY problem.\n",
    "x = cp.Variable(n)\n",
    "cost = cp.sum_squares(A*x - b)\n",
    "prob = cp.Problem(cp.Minimize(cost))\n",
    "prob.solve()\n",
    "\n",
    "# Print result.\n",
    "print(\"\\nThe optimal value is\", prob.value)\n",
    "print(\"The optimal x is\")\n",
    "print(x.value)\n",
    "print(\"The norm of the residual is \", cp.norm(A*x - b, p=2).value)\n",
    "```"
   ]
  },
  {
   "cell_type": "code",
   "execution_count": null,
   "metadata": {},
   "outputs": [],
   "source": [
    "m = 20\n",
    "n = 15\n",
    "A = randn(m,n)\n",
    "b = randn(m)\n",
    ";"
   ]
  },
  {
   "cell_type": "code",
   "execution_count": null,
   "metadata": {},
   "outputs": [],
   "source": [
    "x = my_cvxpy.Variable(n)\n",
    "cost = my_cvxpy.sum_squares(A*x - b)\n",
    "prob = my_cvxpy.Problem(my_cvxpy.Minimize(cost))\n",
    "prob.solve()"
   ]
  },
  {
   "cell_type": "code",
   "execution_count": null,
   "metadata": {},
   "outputs": [],
   "source": [
    "println(\"\\nThe optimal value is\", prob.value)\n",
    "println(\"The optimal x is\")\n",
    "println(x.value)\n",
    "println(\"The norm of the residual is \", my_cvxpy.norm(A*x - b, p=2).value)"
   ]
  },
  {
   "cell_type": "markdown",
   "metadata": {},
   "source": [
    "# Wrapping C code with `ccall`"
   ]
  },
  {
   "cell_type": "code",
   "execution_count": null,
   "metadata": {},
   "outputs": [],
   "source": [
    "?ccall"
   ]
  },
  {
   "cell_type": "markdown",
   "metadata": {},
   "source": [
    "More references in this link:\n",
    "https://docs.julialang.org/en/v1/manual/calling-c-and-fortran-code/index.html"
   ]
  },
  {
   "cell_type": "code",
   "execution_count": null,
   "metadata": {},
   "outputs": [],
   "source": [
    "t = ccall((:clock, \"libc\"), Int32, ())"
   ]
  },
  {
   "cell_type": "code",
   "execution_count": null,
   "metadata": {},
   "outputs": [],
   "source": [
    "ccall((:floor,\"math\"),Float64,(Float64,),10.1)"
   ]
  },
  {
   "cell_type": "code",
   "execution_count": null,
   "metadata": {},
   "outputs": [],
   "source": [
    "ccall((:floor,\"libm\"),Float64,(Float64,),10.1)"
   ]
  },
  {
   "cell_type": "markdown",
   "metadata": {},
   "source": [
    "## Now let's wrap our own `C` function\n",
    "\n",
    "* Switch to editor `hello_world.c`\n",
    "\n",
    "```\n",
    "#include <stdio.h>\n",
    "int hello_world()\n",
    "{\n",
    "    printf(\"Hello, World!\\n\");\n",
    "    return 0;\n",
    "}\n",
    "\n",
    "int hello_world_repeated(int n)\n",
    "{\n",
    "    for (int i = 0; i<n; i++){\n",
    "        printf(\"Hello, World!\\n\");\n",
    "    }\n",
    "    return 0;\n",
    "}\n",
    "```\n",
    "* To compile:\n",
    "\n",
    "```\n",
    "$ gcc -g -O -c hello_world.c \n",
    "$ gcc -dynamiclib -o hello_world_lib.dylib hello_world.o\n",
    "```"
   ]
  },
  {
   "cell_type": "code",
   "execution_count": null,
   "metadata": {},
   "outputs": [],
   "source": [
    "ccall((:hello_world,\"hello_world_lib.dylib\"),\n",
    "    Int64,\n",
    "    (),\n",
    "    )"
   ]
  },
  {
   "cell_type": "code",
   "execution_count": null,
   "metadata": {},
   "outputs": [],
   "source": [
    "ccall((:hello_world_repeated,\"hello_world_lib.dylib\"),\n",
    "    Int64,\n",
    "    (Int64,),\n",
    "    10)"
   ]
  },
  {
   "cell_type": "markdown",
   "metadata": {},
   "source": [
    "## What if we have a `C++` function? Let's take a look\n",
    "\n",
    "```\n",
    "#include <stdint.h>\n",
    "\n",
    "extern \"C\"\n",
    "{\n",
    "int64_t Fibonacci_I(int64_t n)\n",
    "{\n",
    "\tint x = 0;\n",
    "\tint y = 1;\n",
    "\tint t;\n",
    "\tfor(int i=1; i<n; ++i)\n",
    "\t{\n",
    "\t    t = x;\n",
    "\t    x = y;\n",
    "\t    y = t+y;\n",
    "\t}\n",
    "\treturn y;\n",
    "}\n",
    "};\n",
    "```"
   ]
  },
  {
   "cell_type": "code",
   "execution_count": null,
   "metadata": {},
   "outputs": [],
   "source": [
    "if Sys.islinux()\n",
    "    const libpath = string(pwd(), \"/Fibo_externC.so\")\n",
    "else\n",
    "    const libpath = string(pwd(), \"/Fibo_externC.dylib\")\n",
    "end"
   ]
  },
  {
   "cell_type": "code",
   "execution_count": null,
   "metadata": {},
   "outputs": [],
   "source": [
    "function cpp_wrapped_fibo(n::Int64)\n",
    "    r = ccall( (:Fibonacci_I, libpath), # function + library\n",
    "                    Int64, # return type\n",
    "                    (Int64,),\n",
    "                    n)\n",
    "    return r\n",
    "end"
   ]
  },
  {
   "cell_type": "code",
   "execution_count": null,
   "metadata": {},
   "outputs": [],
   "source": [
    "cpp_wrapped_fibo(10)"
   ]
  }
 ],
 "metadata": {
  "kernelspec": {
   "display_name": "Julia 1.0.0",
   "language": "julia",
   "name": "julia-1.0"
  },
  "language_info": {
   "file_extension": ".jl",
   "mimetype": "application/julia",
   "name": "julia",
   "version": "1.0.0"
  }
 },
 "nbformat": 4,
 "nbformat_minor": 2
}
